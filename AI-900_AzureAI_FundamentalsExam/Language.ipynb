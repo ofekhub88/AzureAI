{
 "cells": [
  {
   "cell_type": "code",
   "execution_count": 6,
   "metadata": {},
   "outputs": [],
   "source": [
    "# Replace with your own Azure Cognitive Services API key and endpoint\n",
    "user_key = \"YOUR_USER_KEY\"\n",
    "endpoint = \"https://<SERVICE_NAME>.cognitiveservices.azure.com\"\n",
    "\n",
    "\n",
    "\n",
    "# Define the API endpoint\n",
    "\n",
    "analyze_url = f\"{endpoint}/language/:analyze-text?api-version=2022-05-01\"\n",
    "\n",
    "headers = {\n",
    "    \"Content-Type\": \"application/json\",\n",
    "    \"Ocp-Apim-Subscription-Key\": user_key\n",
    "}\n",
    "\n",
    "# Read the image file"
   ]
  },
  {
   "cell_type": "code",
   "execution_count": 3,
   "metadata": {},
   "outputs": [
    {
     "name": "stdout",
     "output_type": "stream",
     "text": [
      "{'kind': 'KeyPhraseExtractionResults', 'results': {'documents': [{'id': '1', 'keyPhrases': ['great place', 'hotel', 'staff', 'service'], 'warnings': []}, {'id': '2', 'keyPhrases': ['stay', 'service', 'mark'], 'warnings': []}, {'id': '3', 'keyPhrases': ['hotel', 'Chicago', 'room', 'TV', 'pool'], 'warnings': []}], 'errors': [], 'modelVersion': '2022-10-01'}}\n"
     ]
    }
   ],
   "source": [
    "import requests\n",
    "\n",
    "input_json = {\n",
    "    \"kind\": \"KeyPhraseExtraction\",\n",
    "    \"parameters\": {\n",
    "        \"modelVersion\": \"latest\"\n",
    "    },\n",
    "    \"analysisInput\":{\n",
    "        \"documents\":[\n",
    "            {\n",
    "            \"id\": \"1\",\n",
    " \t    \"language\":\"en\", \n",
    "            \"text\": \"The hotel is a great place. The staff were very friendly. The service was amazing\"\n",
    "            },\n",
    "            {\n",
    "            \"id\": \"2\",\n",
    "            \"language\":\"en\",  \t\t\n",
    "            \"text\": \"We didn't enjoy our stay. The service was not up to the mark\"\n",
    "            },\n",
    "            {\n",
    "            \"id\": \"3\",\n",
    "            \"language\":\"en\", \t\t\n",
    "            \"text\": \"The hotel is in Chicago. The room had a TV. The hotel had a pool\"\n",
    "            }\n",
    "        ]\n",
    "    }\n",
    "}\n",
    "\n",
    "# Make the API request\n",
    "response = requests.post(analyze_url, headers=headers, json=input_json)\n",
    "print(response.json())\n",
    "\n"
   ]
  },
  {
   "cell_type": "code",
   "execution_count": 4,
   "metadata": {},
   "outputs": [
    {
     "name": "stdout",
     "output_type": "stream",
     "text": [
      "{'kind': 'LanguageDetectionResults', 'results': {'documents': [{'id': '1', 'detectedLanguage': {'name': 'Spanish', 'iso6391Name': 'es', 'confidenceScore': 1.0}, 'warnings': []}, {'id': '2', 'detectedLanguage': {'name': 'Dutch', 'iso6391Name': 'nl', 'confidenceScore': 1.0}, 'warnings': []}, {'id': '3', 'detectedLanguage': {'name': 'Danish', 'iso6391Name': 'da', 'confidenceScore': 1.0}, 'warnings': []}], 'errors': [], 'modelVersion': '2024-04-01'}}\n"
     ]
    }
   ],
   "source": [
    "#detect languege\n",
    "import requests\n",
    "\n",
    "input_json = {\n",
    "    \"kind\": \"LanguageDetection\",\n",
    "    \"parameters\": {\n",
    "        \"modelVersion\": \"latest\"\n",
    "    },\n",
    "    \"analysisInput\":{\n",
    "        \"documents\":[\n",
    "            {\n",
    "            \"id\": \"1\",\n",
    "            \"text\": \"El hotel es un gran lugar. El personal fue muy amable. el servicio fue increible\"\n",
    "            },\n",
    "            {\n",
    "            \"id\": \"2\",\n",
    "            \"text\": \"Het hotel is een geweldige plek. Het personeel was erg vriendelijk. De service was geweldig\"\n",
    "            },\n",
    "            {\n",
    "            \"id\": \"3\",\n",
    "            \"text\": \"Hotellet er et fantastisk sted. Personalet var meget venligt. Tjenesten var fantastisk\"\n",
    "            }\n",
    "        ]\n",
    "    }\n",
    "}\n",
    "#\n",
    "response = requests.post(analyze_url, headers=headers, json=input_json)\n",
    "print(response.json())\n",
    "\n"
   ]
  },
  {
   "cell_type": "code",
   "execution_count": 7,
   "metadata": {},
   "outputs": [
    {
     "name": "stdout",
     "output_type": "stream",
     "text": [
      "{'kind': 'SentimentAnalysisResults', 'results': {'documents': [{'id': '1', 'sentiment': 'positive', 'confidenceScores': {'positive': 0.92, 'neutral': 0.08, 'negative': 0.0}, 'sentences': [{'sentiment': 'positive', 'confidenceScores': {'positive': 0.99, 'neutral': 0.01, 'negative': 0.0}, 'offset': 0, 'length': 28, 'text': 'The hotel is a great place. '}, {'sentiment': 'positive', 'confidenceScores': {'positive': 0.77, 'neutral': 0.22, 'negative': 0.0}, 'offset': 28, 'length': 30, 'text': 'The staff were very friendly. '}, {'sentiment': 'positive', 'confidenceScores': {'positive': 1.0, 'neutral': 0.0, 'negative': 0.0}, 'offset': 58, 'length': 23, 'text': 'The service was amazing'}], 'warnings': []}, {'id': '2', 'sentiment': 'negative', 'confidenceScores': {'positive': 0.0, 'neutral': 0.0, 'negative': 1.0}, 'sentences': [{'sentiment': 'negative', 'confidenceScores': {'positive': 0.0, 'neutral': 0.0, 'negative': 1.0}, 'offset': 0, 'length': 26, 'text': \"We didn't enjoy our stay. \"}, {'sentiment': 'negative', 'confidenceScores': {'positive': 0.0, 'neutral': 0.0, 'negative': 1.0}, 'offset': 26, 'length': 34, 'text': 'The service was not up to the mark'}], 'warnings': []}, {'id': '3', 'sentiment': 'neutral', 'confidenceScores': {'positive': 0.02, 'neutral': 0.96, 'negative': 0.02}, 'sentences': [{'sentiment': 'neutral', 'confidenceScores': {'positive': 0.0, 'neutral': 1.0, 'negative': 0.0}, 'offset': 0, 'length': 25, 'text': 'The hotel is in Chicago. '}, {'sentiment': 'neutral', 'confidenceScores': {'positive': 0.0, 'neutral': 0.95, 'negative': 0.04}, 'offset': 25, 'length': 19, 'text': 'The room had a TV. '}, {'sentiment': 'neutral', 'confidenceScores': {'positive': 0.04, 'neutral': 0.95, 'negative': 0.01}, 'offset': 44, 'length': 20, 'text': 'The hotel had a pool'}], 'warnings': []}], 'errors': [], 'modelVersion': 'latest'}}\n"
     ]
    }
   ],
   "source": [
    "#detect languege\n",
    "import requests\n",
    "\n",
    "input_json = {\n",
    "    \"kind\": \"SentimentAnalysis\",\n",
    "    \"parameters\": {\n",
    "        \"modelVersion\": \"latest\"\n",
    "    },\n",
    "    \"analysisInput\":{\n",
    "        \"documents\":[\n",
    "            {\n",
    "            \"id\": \"1\",\n",
    " \t    \"language\":\"en\", \n",
    "            \"text\": \"The hotel is a great place. The staff were very friendly. The service was amazing\"\n",
    "            },\n",
    "            {\n",
    "            \"id\": \"2\",\n",
    "            \"language\":\"en\",  \t\t\n",
    "            \"text\": \"We didn't enjoy our stay. The service was not up to the mark\"\n",
    "            },\n",
    "            {\n",
    "            \"id\": \"3\",\n",
    "            \"language\":\"en\", \t\t\n",
    "            \"text\": \"The hotel is in Chicago. The room had a TV. The hotel had a pool\"\n",
    "            }\n",
    "        ]\n",
    "    }\n",
    "}\n",
    "\n",
    "\n",
    "\n",
    "# Make the API request\n",
    "response = requests.post(analyze_url, headers=headers, json=input_json)\n",
    "print(response.json())\n",
    "\n"
   ]
  },
  {
   "cell_type": "code",
   "execution_count": 8,
   "metadata": {},
   "outputs": [
    {
     "name": "stdout",
     "output_type": "stream",
     "text": [
      "{'kind': 'EntityRecognitionResults', 'results': {'documents': [{'id': '1', 'entities': [{'text': 'hotel', 'category': 'Location', 'offset': 4, 'length': 5, 'confidenceScore': 0.61}, {'text': 'Dubai', 'category': 'Location', 'subcategory': 'City', 'offset': 13, 'length': 5, 'confidenceScore': 1.0}], 'warnings': []}, {'id': '2', 'entities': [{'text': 'zoo', 'category': 'Location', 'subcategory': 'Structural', 'offset': 15, 'length': 3, 'confidenceScore': 0.91}, {'text': 'last week', 'category': 'DateTime', 'subcategory': 'DateRange', 'offset': 19, 'length': 9, 'confidenceScore': 1.0}], 'warnings': []}], 'errors': [], 'modelVersion': '2023-09-01'}}\n"
     ]
    }
   ],
   "source": [
    "#Entity Recognition \n",
    "\n",
    "input_json={\n",
    "    \"kind\": \"EntityRecognition\",\n",
    "    \"parameters\": {\n",
    "        \"modelVersion\": \"latest\"\n",
    "    },\n",
    "    \"analysisInput\":{\n",
    "        \"documents\":[\n",
    "            {\n",
    "            \"id\": \"1\",\n",
    " \t    \"language\":\"en\", \n",
    "            \"text\": \"The hotel in Dubai was amazing. Will definitely visit again\"\n",
    "            },\n",
    "            {\n",
    "            \"id\": \"2\",\n",
    "            \"language\":\"en\",  \t\t\n",
    "            \"text\": \"We visited the zoo last week\"\n",
    "            }\n",
    "        ]\n",
    "    }\n",
    "}\n",
    "# Make the API request\n",
    "response = requests.post(analyze_url, headers=headers, json=input_json)\n",
    "print(response.json())"
   ]
  },
  {
   "cell_type": "code",
   "execution_count": 10,
   "metadata": {},
   "outputs": [
    {
     "name": "stdout",
     "output_type": "stream",
     "text": [
      "Transcription: The stale smell of old beer lingers. It takes heat to bring out the odor. A cold dip restores health and zest. A salt pickle tastes fine with ham. Tacos al pastora are my favorite. A zestful food is the hot cross bun.\n"
     ]
    }
   ],
   "source": [
    "#Speach  To Text\n",
    "import requests\n",
    "import json\n",
    "\n",
    "# Replace with your own subscription key and endpoint\n",
    "subscription_key = \"YOUR_USER_KEY\"\n",
    "endpoint = \"https://<ServiceREGION>.stt.speech.microsoft.com/speech/recognition/conversation/cognitiveservices/v1?language=en-US&format=detailed\"\n",
    "\n",
    "# Replace with the path to your audio file\n",
    "audio_file_path = \"Wav file path\"\n",
    "\n",
    "# Read the audio file\n",
    "with open(audio_file_path, \"rb\") as audio_file:\n",
    "    audio_data = audio_file.read()\n",
    "\n",
    "# Set headers\n",
    "headers = {\n",
    "    \"Ocp-Apim-Subscription-Key\": subscription_key,\n",
    "    \"Content-Type\": \"audio/wav\"\n",
    "}\n",
    "\n",
    "# Make the API call\n",
    "response = requests.post(endpoint, data=audio_data, headers=headers)\n",
    "\n",
    "# Parse the response\n",
    "if response.status_code == 200:\n",
    "    result = json.loads(response.content)\n",
    "    transcription = result.get(\"DisplayText\", \"\")\n",
    "    print(f\"Transcription: {transcription}\")\n",
    "else:\n",
    "    print(f\"Error: {response.status_code} - {response.text}\")\n",
    "\n"
   ]
  },
  {
   "cell_type": "code",
   "execution_count": 17,
   "metadata": {},
   "outputs": [
    {
     "name": "stdout",
     "output_type": "stream",
     "text": [
      "Speech saved as /mnt/c/tmp/output.mp3\n"
     ]
    }
   ],
   "source": [
    "# Text to Speach \n",
    "import requests\n",
    "\n",
    "def get_text_to_speech(text, output_path):\n",
    "    # Replace with your own subscription key and endpoint\n",
    "    subscription_key = \"YOUR_USER_KEY\"\n",
    "    endpoint = \"https://<REGION>.tts.speech.microsoft.com/cognitiveservices/v1\"\n",
    "\n",
    "    # Set headers\n",
    "    headers = {\n",
    "        \"Ocp-Apim-Subscription-Key\": subscription_key,\n",
    "        \"Content-Type\": \"application/ssml+xml\",\n",
    "        \"X-Microsoft-OutputFormat\": \"audio-16khz-128kbitrate-mono-mp3\"\n",
    "    }\n",
    "\n",
    "    # Create SSML request body\n",
    "    ssml = f\"\"\"\n",
    "    <speak version='1.0' xmlns='http://www.w3.org/2001/10/synthesis' xml:lang='en-US'>\n",
    "        <voice name='en-US-AriaNeural'>\n",
    "            {text}\n",
    "        </voice>\n",
    "    </speak>\n",
    "    \"\"\"\n",
    "\n",
    "    # Make the API call\n",
    "    response = requests.post(endpoint, data=ssml.encode(\"utf-8\"), headers=headers)\n",
    "\n",
    "    # Save the response as an MP3 file\n",
    "    if response.status_code == 200:\n",
    "        with open(output_path, \"wb\") as mp3_file:\n",
    "            mp3_file.write(response.content)\n",
    "        print(f\"Speech saved as {output_path}\")\n",
    "    else:\n",
    "        print(f\"Error: {response.status_code} - {response.text}\")\n",
    "\n",
    "# Example usage\n",
    "text_to_convert = \"\"\"Hello, this is an example of text to speech conversion.\n",
    "My Name bil alto i am 356 years old is it make a sence ?\n",
    "I just kiden keep dont worry.\n",
    "my doughter has speciael name is her name is Liri Ofek\n",
    "She used to hear Baly ilish but now she hate her\"\"\"\n",
    "output_file_path = \"mp3 PATH\"\n",
    "get_text_to_speech(text_to_convert, output_file_path)\n"
   ]
  },
  {
   "cell_type": "code",
   "execution_count": null,
   "metadata": {},
   "outputs": [],
   "source": []
  }
 ],
 "metadata": {
  "language_info": {
   "name": "python"
  }
 },
 "nbformat": 4,
 "nbformat_minor": 2
}
